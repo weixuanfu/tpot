{
 "cells": [
  {
   "cell_type": "code",
   "execution_count": 1,
   "metadata": {},
   "outputs": [],
   "source": [
    "import pandas as pd\n",
    "import numpy as np\n",
    "import sys\n",
    "from tpot import TPOTClassifier\n",
    "from sklearn.model_selection import train_test_split, cross_val_score\n",
    "from tpot.config import classifier_config_dict"
   ]
  },
  {
   "cell_type": "code",
   "execution_count": 2,
   "metadata": {},
   "outputs": [],
   "source": [
    "Xdata = pd.read_csv('testingData/data.txt', sep='\\t', index_col='id')\n",
    "Ydata = Xdata['population']\n",
    "Xdata.drop(['population'], axis=1,  inplace=True)"
   ]
  },
  {
   "cell_type": "code",
   "execution_count": 3,
   "metadata": {},
   "outputs": [
    {
     "data": {
      "text/plain": [
       "id\n",
       "HG00096.1.MI_120104_4    2\n",
       "HG00097.7.MI_120224_2    2\n",
       "HG00099.5.MI_120327_3    2\n",
       "HG00100.2.MI_120126_4    2\n",
       "HG00101.1.MI_120104_4    2\n",
       "Name: population, dtype: int64"
      ]
     },
     "execution_count": 3,
     "metadata": {},
     "output_type": "execute_result"
    }
   ],
   "source": [
    "Ydata.head()"
   ]
  },
  {
   "cell_type": "code",
   "execution_count": 4,
   "metadata": {},
   "outputs": [],
   "source": [
    "classifier_config_dict['sklearn.feature_selection.SelectPercentile'] = {\n",
    "    'percentile': range(1, 10),\n",
    "    'score_func': {\n",
    "        'sklearn.feature_selection.f_classif': None\n",
    "    }\n",
    "}\n",
    "\n",
    "classifier_config_dict['tpot.builtins.resAdjTransformer'] = {\n",
    "    'C': [['lab1','lab2','lab3','lab4','lab5','lab6']],\n",
    "    'adj_list': ['testingData/adj_list.csv']\n",
    "    \n",
    "}"
   ]
  },
  {
   "cell_type": "code",
   "execution_count": 5,
   "metadata": {},
   "outputs": [],
   "source": [
    "seed=42\n",
    "n_gen = 5\n",
    "n_pop = 10\n",
    "\n",
    "\n",
    "Xtrain, Xtest, Ytrain, Ytest = train_test_split(Xdata, \n",
    "                                                Ydata, \n",
    "                                                random_state=42+int(), \n",
    "                                                train_size=0.75, \n",
    "                                                test_size=0.25, \n",
    "                                                stratify=Ydata)\n"
   ]
  },
  {
   "cell_type": "code",
   "execution_count": null,
   "metadata": {},
   "outputs": [
    {
     "name": "stdout",
     "output_type": "stream",
     "text": [
      "Imputing missing values in feature set\n"
     ]
    },
    {
     "data": {
      "application/vnd.jupyter.widget-view+json": {
       "model_id": "3ac61efe147344c1a507bdb99f561e72",
       "version_major": 2,
       "version_minor": 0
      },
      "text/plain": [
       "HBox(children=(FloatProgress(value=0.0, description='Optimization Progress', max=60.0, style=ProgressStyle(des…"
      ]
     },
     "metadata": {},
     "output_type": "display_data"
    }
   ],
   "source": [
    "tpot = TPOTClassifier(generations=n_gen, population_size=n_pop, \n",
    "                      verbosity=2, cv=5, config_dict=classifier_config_dict,\n",
    "                      scoring='balanced_accuracy', random_state=42 + int(seed),\n",
    "                      template=\"resAdjTransformer-Selector-Transformer-Classifier\")\n",
    "tpot.fit(Xtrain, Ytrain)"
   ]
  },
  {
   "cell_type": "code",
   "execution_count": null,
   "metadata": {},
   "outputs": [],
   "source": [
    "tpot._imputed"
   ]
  }
 ],
 "metadata": {
  "kernelspec": {
   "display_name": "Python 3",
   "language": "python",
   "name": "python3"
  },
  "language_info": {
   "codemirror_mode": {
    "name": "ipython",
    "version": 3
   },
   "file_extension": ".py",
   "mimetype": "text/x-python",
   "name": "python",
   "nbconvert_exporter": "python",
   "pygments_lexer": "ipython3",
   "version": "3.7.3"
  }
 },
 "nbformat": 4,
 "nbformat_minor": 4
}

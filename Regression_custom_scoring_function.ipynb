{
 "cells": [
  {
   "cell_type": "code",
   "execution_count": 1,
   "metadata": {},
   "outputs": [
    {
     "name": "stdout",
     "output_type": "stream",
     "text": [
      "Shape of X (100, 4)\n",
      "Shape of y (100,)\n",
      "[[5.7 4.4 1.5 0.4]\n",
      " [5.  3.5 1.3 0.3]\n",
      " [5.7 2.9 4.2 1.3]\n",
      " [4.9 3.1 1.5 0.1]\n",
      " [6.3 2.5 4.9 1.5]]\n"
     ]
    }
   ],
   "source": [
    "from tpot import TPOTRegressor\n",
    "from sklearn.datasets import load_iris # a classification benchmark with 0,1,2 outcome\n",
    "from sklearn.model_selection import train_test_split\n",
    "import numpy as np\n",
    "\n",
    "iris = load_iris()\n",
    "# exclude 2 outcome to make binary classification problem\n",
    "binary_index = np.where(iris.target != 2)\n",
    "\n",
    "X = iris.data[binary_index[0],:]\n",
    "y = iris.target[binary_index]\n",
    "print(\"Shape of X\",X.shape)\n",
    "\n",
    "print(\"Shape of y\", y.shape)\n",
    "X_train, X_test, y_train, y_test = train_test_split(X, y, train_size=0.75, test_size=0.25, random_state=42)\n",
    "\n",
    "\n",
    "print(X_train[:5,])\n"
   ]
  },
  {
   "cell_type": "code",
   "execution_count": 2,
   "metadata": {},
   "outputs": [
    {
     "name": "stdout",
     "output_type": "stream",
     "text": [
      "[0 0 1 0 1]\n"
     ]
    }
   ],
   "source": [
    "print(y_train[:5,])"
   ]
  },
  {
   "cell_type": "code",
   "execution_count": 3,
   "metadata": {},
   "outputs": [
    {
     "name": "stdout",
     "output_type": "stream",
     "text": [
      "(75, 4)\n"
     ]
    }
   ],
   "source": [
    "print(X_train.shape)"
   ]
  },
  {
   "cell_type": "code",
   "execution_count": 4,
   "metadata": {},
   "outputs": [
    {
     "name": "stdout",
     "output_type": "stream",
     "text": [
      "Max and Min value of y_adj -0.1 -0.5\n",
      "0.4\n"
     ]
    }
   ],
   "source": [
    "y_adj_train = y_train[:5]-X_train[:5, -1]\n",
    "# assume the last column of X is pi\n",
    "print(\"Max and Min value of y_adj\", max(y_adj_train),min(y_adj_train))\n",
    "print(np.mean(y_train[:5]))"
   ]
  },
  {
   "cell_type": "code",
   "execution_count": 5,
   "metadata": {},
   "outputs": [],
   "source": [
    "# I assume the last column of X_train or X_test is pi, below is the scoring function for our design. "
   ]
  },
  {
   "cell_type": "code",
   "execution_count": 6,
   "metadata": {},
   "outputs": [],
   "source": [
    "def custom_reg_scoring_function(estimator, X, y):\n",
    "    from tpot.metrics import balanced_accuracy\n",
    "    pi = X[:,-1] # pi\n",
    "    X_no_pi = X[:,:-1] # X without pi\n",
    "    y_adj = y - pi # y-pi\n",
    "    estimator.fit(X_no_pi, y_adj) # fit X_no_pi and y_adj to regression pipeline\n",
    "    y_adj_pred = estimator.predict(X_no_pi) # get prediction of y_adj\n",
    "    y_adj_pred_pi = y_adj_pred + X[:, -1] # add pi back to prediction of y_adj\n",
    "    # make a array of 0 for redefined prediction of y\n",
    "    pred_y = np.zeros(y_adj_pred_pi.shape, dtype=int)\n",
    "    # assume that y_adj_pred_pi > 0.5 then pred_y is 1 unless it is 0\n",
    "    pred_y[np.where(y_adj_pred_pi > 0.5)] = 1\n",
    "    return balanced_accuracy(y, pred_y)\n",
    "    "
   ]
  },
  {
   "cell_type": "code",
   "execution_count": null,
   "metadata": {},
   "outputs": [
    {
     "name": "stdout",
     "output_type": "stream",
     "text": [
      "29 operators have been imported by TPOT.\n"
     ]
    },
    {
     "data": {
      "application/vnd.jupyter.widget-view+json": {
       "model_id": "7f74160d87fe4b048559c57bbe1189bb",
       "version_major": 2,
       "version_minor": 0
      },
      "text/plain": [
       "A Jupyter Widget"
      ]
     },
     "metadata": {},
     "output_type": "display_data"
    },
    {
     "name": "stdout",
     "output_type": "stream",
     "text": [
      "_pre_test decorator: _random_mutation_operator: num_test=0 Found array with 0 feature(s) (shape=(50, 0)) while a minimum of 1 is required..\n",
      "_pre_test decorator: _random_mutation_operator: num_test=0 Found array with 0 feature(s) (shape=(50, 0)) while a minimum of 1 is required..\n",
      "_pre_test decorator: _random_mutation_operator: num_test=0 Unsupported set of arguments: The combination of penalty='l2' and loss='epsilon_insensitive' are not supported when dual=False, Parameters: penalty='l2', loss='epsilon_insensitive', dual=False.\n",
      "_pre_test decorator: _random_mutation_operator: num_test=1 Expected n_neighbors <= n_samples,  but n_samples = 50, n_neighbors = 65.\n",
      "Pipeline encountered that has previously been evaluated during the optimization process. Using the score from the previous evaluation.\n",
      "Pipeline encountered that has previously been evaluated during the optimization process. Using the score from the previous evaluation.\n",
      "Generation 1 - Current Pareto front scores:\n",
      "-1\t1.0\tRandomForestRegressor(input_matrix, RandomForestRegressor__bootstrap=True, RandomForestRegressor__max_features=0.7500000000000001, RandomForestRegressor__min_samples_leaf=11, RandomForestRegressor__min_samples_split=9, RandomForestRegressor__n_estimators=100)\n",
      "\n",
      "_pre_test decorator: _random_mutation_operator: num_test=0 Found array with 0 feature(s) (shape=(50, 0)) while a minimum of 1 is required..\n",
      "_pre_test decorator: _random_mutation_operator: num_test=0 Unsupported set of arguments: The combination of penalty='l2' and loss='epsilon_insensitive' are not supported when dual=False, Parameters: penalty='l2', loss='epsilon_insensitive', dual=False.\n"
     ]
    }
   ],
   "source": [
    "tpot = TPOTRegressor(generations=5, population_size=50, scoring=custom_reg_scoring_function, verbosity=3, random_state=42)\n",
    "tpot.fit(X_train, y_train)\n"
   ]
  },
  {
   "cell_type": "code",
   "execution_count": null,
   "metadata": {},
   "outputs": [],
   "source": [
    "tpot.score(X_test, y_test)"
   ]
  },
  {
   "cell_type": "code",
   "execution_count": null,
   "metadata": {},
   "outputs": [],
   "source": [
    "tpot.fitted_pipeline_"
   ]
  },
  {
   "cell_type": "code",
   "execution_count": null,
   "metadata": {},
   "outputs": [],
   "source": []
  }
 ],
 "metadata": {
  "kernelspec": {
   "display_name": "Python 3",
   "language": "python",
   "name": "python3"
  },
  "language_info": {
   "codemirror_mode": {
    "name": "ipython",
    "version": 3
   },
   "file_extension": ".py",
   "mimetype": "text/x-python",
   "name": "python",
   "nbconvert_exporter": "python",
   "pygments_lexer": "ipython3",
   "version": "3.6.9"
  }
 },
 "nbformat": 4,
 "nbformat_minor": 2
}
